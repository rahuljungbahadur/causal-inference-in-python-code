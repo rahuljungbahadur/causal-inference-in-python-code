{
 "cells": [
  {
   "cell_type": "code",
   "execution_count": 1,
   "metadata": {},
   "outputs": [],
   "source": [
    "import pandas as pd\n",
    "import numpy as np\n",
    "\n"
   ]
  },
  {
   "cell_type": "code",
   "execution_count": 2,
   "metadata": {},
   "outputs": [],
   "source": [
    "\n",
    "df = (pd.read_csv(\"../causal-inference-in-python/data/online_mkt.csv\")\n",
    "      .astype({\"date\":\"datetime64[ns]\"})\n",
    "      .query(\"post==0\"))"
   ]
  },
  {
   "cell_type": "code",
   "execution_count": 3,
   "metadata": {},
   "outputs": [
    {
     "data": {
      "text/html": [
       "<div>\n",
       "<style scoped>\n",
       "    .dataframe tbody tr th:only-of-type {\n",
       "        vertical-align: middle;\n",
       "    }\n",
       "\n",
       "    .dataframe tbody tr th {\n",
       "        vertical-align: top;\n",
       "    }\n",
       "\n",
       "    .dataframe thead th {\n",
       "        text-align: right;\n",
       "    }\n",
       "</style>\n",
       "<table border=\"1\" class=\"dataframe\">\n",
       "  <thead>\n",
       "    <tr style=\"text-align: right;\">\n",
       "      <th></th>\n",
       "      <th>app_download</th>\n",
       "      <th>population</th>\n",
       "      <th>city</th>\n",
       "      <th>state</th>\n",
       "      <th>date</th>\n",
       "      <th>post</th>\n",
       "      <th>treated</th>\n",
       "    </tr>\n",
       "  </thead>\n",
       "  <tbody>\n",
       "    <tr>\n",
       "      <th>0</th>\n",
       "      <td>3066.0</td>\n",
       "      <td>12396372</td>\n",
       "      <td>sao_paulo</td>\n",
       "      <td>sao_paulo</td>\n",
       "      <td>2022-03-01</td>\n",
       "      <td>0</td>\n",
       "      <td>1</td>\n",
       "    </tr>\n",
       "    <tr>\n",
       "      <th>1</th>\n",
       "      <td>2701.0</td>\n",
       "      <td>12396372</td>\n",
       "      <td>sao_paulo</td>\n",
       "      <td>sao_paulo</td>\n",
       "      <td>2022-03-02</td>\n",
       "      <td>0</td>\n",
       "      <td>1</td>\n",
       "    </tr>\n",
       "    <tr>\n",
       "      <th>2</th>\n",
       "      <td>1927.0</td>\n",
       "      <td>12396372</td>\n",
       "      <td>sao_paulo</td>\n",
       "      <td>sao_paulo</td>\n",
       "      <td>2022-03-03</td>\n",
       "      <td>0</td>\n",
       "      <td>1</td>\n",
       "    </tr>\n",
       "    <tr>\n",
       "      <th>3</th>\n",
       "      <td>1451.0</td>\n",
       "      <td>12396372</td>\n",
       "      <td>sao_paulo</td>\n",
       "      <td>sao_paulo</td>\n",
       "      <td>2022-03-04</td>\n",
       "      <td>0</td>\n",
       "      <td>1</td>\n",
       "    </tr>\n",
       "    <tr>\n",
       "      <th>4</th>\n",
       "      <td>1248.0</td>\n",
       "      <td>12396372</td>\n",
       "      <td>sao_paulo</td>\n",
       "      <td>sao_paulo</td>\n",
       "      <td>2022-03-05</td>\n",
       "      <td>0</td>\n",
       "      <td>1</td>\n",
       "    </tr>\n",
       "  </tbody>\n",
       "</table>\n",
       "</div>"
      ],
      "text/plain": [
       "   app_download  population       city      state       date  post  treated\n",
       "0        3066.0    12396372  sao_paulo  sao_paulo 2022-03-01     0        1\n",
       "1        2701.0    12396372  sao_paulo  sao_paulo 2022-03-02     0        1\n",
       "2        1927.0    12396372  sao_paulo  sao_paulo 2022-03-03     0        1\n",
       "3        1451.0    12396372  sao_paulo  sao_paulo 2022-03-04     0        1\n",
       "4        1248.0    12396372  sao_paulo  sao_paulo 2022-03-05     0        1"
      ]
     },
     "execution_count": 3,
     "metadata": {},
     "output_type": "execute_result"
    }
   ],
   "source": [
    "df.head()"
   ]
  },
  {
   "cell_type": "markdown",
   "metadata": {},
   "source": [
    "# Computing variance and power calculations"
   ]
  },
  {
   "cell_type": "code",
   "execution_count": 4,
   "metadata": {},
   "outputs": [],
   "source": [
    "import polars as pl"
   ]
  },
  {
   "cell_type": "code",
   "execution_count": 5,
   "metadata": {},
   "outputs": [],
   "source": [
    "dfpl = pl.DataFrame(df)"
   ]
  },
  {
   "cell_type": "code",
   "execution_count": 22,
   "metadata": {},
   "outputs": [
    {
     "data": {
      "text/html": [
       "<div><style>\n",
       ".dataframe > thead > tr,\n",
       ".dataframe > tbody > tr {\n",
       "  text-align: right;\n",
       "  white-space: pre-wrap;\n",
       "}\n",
       "</style>\n",
       "<small>shape: (5, 7)</small><table border=\"1\" class=\"dataframe\"><thead><tr><th>app_download</th><th>population</th><th>city</th><th>state</th><th>date</th><th>post</th><th>treated</th></tr><tr><td>f64</td><td>i64</td><td>str</td><td>str</td><td>datetime[ns]</td><td>i64</td><td>i64</td></tr></thead><tbody><tr><td>3066.0</td><td>12396372</td><td>&quot;sao_paulo&quot;</td><td>&quot;sao_paulo&quot;</td><td>2022-03-01 00:00:00</td><td>0</td><td>1</td></tr><tr><td>2701.0</td><td>12396372</td><td>&quot;sao_paulo&quot;</td><td>&quot;sao_paulo&quot;</td><td>2022-03-02 00:00:00</td><td>0</td><td>1</td></tr><tr><td>1927.0</td><td>12396372</td><td>&quot;sao_paulo&quot;</td><td>&quot;sao_paulo&quot;</td><td>2022-03-03 00:00:00</td><td>0</td><td>1</td></tr><tr><td>1451.0</td><td>12396372</td><td>&quot;sao_paulo&quot;</td><td>&quot;sao_paulo&quot;</td><td>2022-03-04 00:00:00</td><td>0</td><td>1</td></tr><tr><td>1248.0</td><td>12396372</td><td>&quot;sao_paulo&quot;</td><td>&quot;sao_paulo&quot;</td><td>2022-03-05 00:00:00</td><td>0</td><td>1</td></tr></tbody></table></div>"
      ],
      "text/plain": [
       "shape: (5, 7)\n",
       "┌──────────────┬────────────┬───────────┬───────────┬─────────────────────┬──────┬─────────┐\n",
       "│ app_download ┆ population ┆ city      ┆ state     ┆ date                ┆ post ┆ treated │\n",
       "│ ---          ┆ ---        ┆ ---       ┆ ---       ┆ ---                 ┆ ---  ┆ ---     │\n",
       "│ f64          ┆ i64        ┆ str       ┆ str       ┆ datetime[ns]        ┆ i64  ┆ i64     │\n",
       "╞══════════════╪════════════╪═══════════╪═══════════╪═════════════════════╪══════╪═════════╡\n",
       "│ 3066.0       ┆ 12396372   ┆ sao_paulo ┆ sao_paulo ┆ 2022-03-01 00:00:00 ┆ 0    ┆ 1       │\n",
       "│ 2701.0       ┆ 12396372   ┆ sao_paulo ┆ sao_paulo ┆ 2022-03-02 00:00:00 ┆ 0    ┆ 1       │\n",
       "│ 1927.0       ┆ 12396372   ┆ sao_paulo ┆ sao_paulo ┆ 2022-03-03 00:00:00 ┆ 0    ┆ 1       │\n",
       "│ 1451.0       ┆ 12396372   ┆ sao_paulo ┆ sao_paulo ┆ 2022-03-04 00:00:00 ┆ 0    ┆ 1       │\n",
       "│ 1248.0       ┆ 12396372   ┆ sao_paulo ┆ sao_paulo ┆ 2022-03-05 00:00:00 ┆ 0    ┆ 1       │\n",
       "└──────────────┴────────────┴───────────┴───────────┴─────────────────────┴──────┴─────────┘"
      ]
     },
     "execution_count": 22,
     "metadata": {},
     "output_type": "execute_result"
    }
   ],
   "source": [
    "dfpl.head()"
   ]
  },
  {
   "cell_type": "code",
   "execution_count": 20,
   "metadata": {},
   "outputs": [
    {
     "data": {
      "text/html": [
       "<div><style>\n",
       ".dataframe > thead > tr,\n",
       ".dataframe > tbody > tr {\n",
       "  text-align: right;\n",
       "  white-space: pre-wrap;\n",
       "}\n",
       "</style>\n",
       "<small>shape: (1, 7)</small><table border=\"1\" class=\"dataframe\"><thead><tr><th>app_download</th><th>population</th><th>city</th><th>state</th><th>date</th><th>post</th><th>treated</th></tr><tr><td>f64</td><td>f64</td><td>str</td><td>str</td><td>datetime[ns]</td><td>f64</td><td>f64</td></tr></thead><tbody><tr><td>160.04</td><td>1.3701e6</td><td>null</td><td>null</td><td>2022-03-31 00:00:00</td><td>0.0</td><td>0.06</td></tr></tbody></table></div>"
      ],
      "text/plain": [
       "shape: (1, 7)\n",
       "┌──────────────┬────────────┬──────┬───────┬─────────────────────┬──────┬─────────┐\n",
       "│ app_download ┆ population ┆ city ┆ state ┆ date                ┆ post ┆ treated │\n",
       "│ ---          ┆ ---        ┆ ---  ┆ ---   ┆ ---                 ┆ ---  ┆ ---     │\n",
       "│ f64          ┆ f64        ┆ str  ┆ str   ┆ datetime[ns]        ┆ f64  ┆ f64     │\n",
       "╞══════════════╪════════════╪══════╪═══════╪═════════════════════╪══════╪═════════╡\n",
       "│ 160.04       ┆ 1.3701e6   ┆ null ┆ null  ┆ 2022-03-31 00:00:00 ┆ 0.0  ┆ 0.06    │\n",
       "└──────────────┴────────────┴──────┴───────┴─────────────────────┴──────┴─────────┘"
      ]
     },
     "execution_count": 20,
     "metadata": {},
     "output_type": "execute_result"
    }
   ],
   "source": [
    "dfpl.mean()"
   ]
  },
  {
   "cell_type": "code",
   "execution_count": 50,
   "metadata": {},
   "outputs": [
    {
     "data": {
      "text/plain": [
       "np.float64(143789.36064670788)"
      ]
     },
     "execution_count": 50,
     "metadata": {},
     "output_type": "execute_result"
    }
   ],
   "source": [
    "varr =np.var(\n",
    "    dfpl\n",
    "    # .filter(pl.col(\"treated\")==0)\n",
    "    .group_by(\"city\")\n",
    "    .agg((pl.mean('app_download')).alias(\"mean_app_dnld\"))\n",
    "    .select(\"mean_app_dnld\")\n",
    "    .to_numpy()\n",
    ")\n",
    "varr"
   ]
  },
  {
   "cell_type": "code",
   "execution_count": 51,
   "metadata": {},
   "outputs": [
    {
     "data": {
      "text/plain": [
       "np.float64(160.04000000000002)"
      ]
     },
     "execution_count": 51,
     "metadata": {},
     "output_type": "execute_result"
    }
   ],
   "source": [
    "## Overall variance\n",
    "# MDE of 5%\n",
    "baseline = (\n",
    "    np.mean(\n",
    "        dfpl\n",
    "        .group_by(\"city\")\n",
    "        .agg((pl.mean(\"app_download\").alias(\"mean_dnld\")))\n",
    "        .select(\"mean_dnld\")\n",
    "        .to_numpy()\n",
    "    )\n",
    ")\n",
    "\n",
    "baseline"
   ]
  },
  {
   "cell_type": "code",
   "execution_count": 52,
   "metadata": {},
   "outputs": [
    {
     "data": {
      "text/plain": [
       "np.float64(168.04200000000003)"
      ]
     },
     "execution_count": 52,
     "metadata": {},
     "output_type": "execute_result"
    }
   ],
   "source": [
    "exp_uplift = baseline * 1.05\n",
    "exp_uplift"
   ]
  },
  {
   "cell_type": "code",
   "execution_count": 53,
   "metadata": {},
   "outputs": [
    {
     "data": {
      "text/plain": [
       "np.float64(35929.3732294764)"
      ]
     },
     "execution_count": 53,
     "metadata": {},
     "output_type": "execute_result"
    }
   ],
   "source": [
    "##  Number of cities needed\n",
    "N = (16.0*varr)/((baseline * 0.05)**2)\n",
    "N"
   ]
  }
 ],
 "metadata": {
  "kernelspec": {
   "display_name": "base",
   "language": "python",
   "name": "python3"
  },
  "language_info": {
   "codemirror_mode": {
    "name": "ipython",
    "version": 3
   },
   "file_extension": ".py",
   "mimetype": "text/x-python",
   "name": "python",
   "nbconvert_exporter": "python",
   "pygments_lexer": "ipython3",
   "version": "3.12.4"
  }
 },
 "nbformat": 4,
 "nbformat_minor": 2
}
